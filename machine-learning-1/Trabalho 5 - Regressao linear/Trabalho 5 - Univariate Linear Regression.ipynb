{
 "cells": [
  {
   "cell_type": "markdown",
   "metadata": {},
   "source": [
    "## Regressão Linear Univariada - Aprendizado Supervisionado\n",
    "\n",
    "Prof: Nielsen Rechia\n",
    "\n",
    "### Autores: \n",
    "Roberto Coutinho  \n",
    "Thais Galho"
   ]
  },
  {
   "cell_type": "markdown",
   "metadata": {},
   "source": [
    "### Atividade:  Implementar uma regressão linear para prever qual o lucro, tendo como base o tamanho da população de um determinado local, com o dataset Regressão Univariada -> ex1data1.csv\n",
    "\n",
    "##### Requisitos\n",
    "- Defina uma % do conjunto de dados para treino e teste (sugestão 50% 50%)   \n",
    "- Inicie os parâmetros theta 0 e theta 1 de forma randômica   \n",
    "- Defina a taxa de aprendizado inicial   \n",
    "- Atualize os pesos   \n",
    "- Realize o processo até atingir convergência (diferença no custo de uma iteração para a outra não é significativa) \n",
    " "
   ]
  },
  {
   "cell_type": "markdown",
   "metadata": {},
   "source": [
    "### Imports"
   ]
  },
  {
   "cell_type": "code",
   "execution_count": 38,
   "metadata": {},
   "outputs": [],
   "source": [
    "#encoding=utf-8\n",
    "from matplotlib import pyplot as plt\n",
    "import pandas as pd\n",
    "import numpy as np\n",
    "from sklearn.model_selection import train_test_split\n",
    "from sklearn.metrics import euclidean_distances"
   ]
  },
  {
   "cell_type": "code",
   "execution_count": 39,
   "metadata": {},
   "outputs": [
    {
     "name": "stdout",
     "output_type": "stream",
     "text": [
      "97 records\n"
     ]
    },
    {
     "data": {
      "text/html": [
       "<div>\n",
       "<style scoped>\n",
       "    .dataframe tbody tr th:only-of-type {\n",
       "        vertical-align: middle;\n",
       "    }\n",
       "\n",
       "    .dataframe tbody tr th {\n",
       "        vertical-align: top;\n",
       "    }\n",
       "\n",
       "    .dataframe thead th {\n",
       "        text-align: right;\n",
       "    }\n",
       "</style>\n",
       "<table border=\"1\" class=\"dataframe\">\n",
       "  <thead>\n",
       "    <tr style=\"text-align: right;\">\n",
       "      <th></th>\n",
       "      <th>populacao</th>\n",
       "      <th>lucro</th>\n",
       "    </tr>\n",
       "  </thead>\n",
       "  <tbody>\n",
       "    <tr>\n",
       "      <th>0</th>\n",
       "      <td>6.1101</td>\n",
       "      <td>17.5920</td>\n",
       "    </tr>\n",
       "    <tr>\n",
       "      <th>1</th>\n",
       "      <td>5.5277</td>\n",
       "      <td>9.1302</td>\n",
       "    </tr>\n",
       "    <tr>\n",
       "      <th>2</th>\n",
       "      <td>8.5186</td>\n",
       "      <td>13.6620</td>\n",
       "    </tr>\n",
       "    <tr>\n",
       "      <th>3</th>\n",
       "      <td>7.0032</td>\n",
       "      <td>11.8540</td>\n",
       "    </tr>\n",
       "    <tr>\n",
       "      <th>4</th>\n",
       "      <td>5.8598</td>\n",
       "      <td>6.8233</td>\n",
       "    </tr>\n",
       "  </tbody>\n",
       "</table>\n",
       "</div>"
      ],
      "text/plain": [
       "   populacao    lucro\n",
       "0     6.1101  17.5920\n",
       "1     5.5277   9.1302\n",
       "2     8.5186  13.6620\n",
       "3     7.0032  11.8540\n",
       "4     5.8598   6.8233"
      ]
     },
     "execution_count": 39,
     "metadata": {},
     "output_type": "execute_result"
    }
   ],
   "source": [
    "df = pd.read_csv('ex1data1.csv', nrows=None, index_col=None)\n",
    "print str(len(df)) + ' records'\n",
    "df.head()"
   ]
  },
  {
   "cell_type": "code",
   "execution_count": 53,
   "metadata": {},
   "outputs": [],
   "source": [
    "X =  np.array(df['populacao'], dtype=float)\n",
    "y = np.array(df['lucro'],dtype=float)\n",
    "\n",
    "# utiliza 50% do dataset para teste\n",
    "X_train, X_test, Y_train, Y_test = train_test_split(X, y, train_size=0.50, test_size=0.50)\n",
    "\n"
   ]
  },
  {
   "cell_type": "code",
   "execution_count": 52,
   "metadata": {},
   "outputs": [],
   "source": [
    "t0 = 0.  # altere os pesos aqui\n",
    "t1 = 0  # altere os pesos aqui\n",
    "\n",
    "X, fx = np.array(df['populacao'], dtype=float), np.array(df['lucro'], dtype=float)  # conjuntos X e y"
   ]
  },
  {
   "cell_type": "code",
   "execution_count": 15,
   "metadata": {},
   "outputs": [],
   "source": [
    "def hypothesis(x, t0, t1):\n",
    "    return t0 + t1 * x"
   ]
  },
  {
   "cell_type": "code",
   "execution_count": 16,
   "metadata": {},
   "outputs": [],
   "source": [
    "def cost_function(X, fx, h, t0, t1):\n",
    "    soma = 0.\n",
    "    N = len(X)\n",
    "    \n",
    "    for i in range(N):\n",
    "        soma += (h(X[i], t0, t1) - fx[i]) ** 2.\n",
    "    \n",
    "    return (1./(2. * float(N))) * soma"
   ]
  },
  {
   "cell_type": "code",
   "execution_count": 17,
   "metadata": {},
   "outputs": [
    {
     "name": "stdout",
     "output_type": "stream",
     "text": [
      "32.072733877455654\n"
     ]
    }
   ],
   "source": [
    "print cost_function(X, fx, hypothesis, t0, t1)"
   ]
  },
  {
   "cell_type": "markdown",
   "metadata": {},
   "source": [
    "### Projetando as predições"
   ]
  },
  {
   "cell_type": "code",
   "execution_count": 18,
   "metadata": {},
   "outputs": [
    {
     "data": {
      "image/png": "[encoded data removed]",
      "text/plain": [
       "<Figure size 432x288 with 1 Axes>"
      ]
     },
     "metadata": {},
     "output_type": "display_data"
    }
   ],
   "source": [
    "plt.plot(X, [hypothesis(x, t0, t1) for x in X], c='blue')\n",
    "plt.scatter(X, fx, c='red')\n",
    "plt.xlabel('x')\n",
    "plt.ylabel('f(x)')\n",
    "plt.title(u'Predições ' + r'para $\\theta_0=$' + str(t0) + r' e $\\theta_1=$' + str(t1))\n",
    "plt.show()"
   ]
  },
  {
   "cell_type": "markdown",
   "metadata": {},
   "source": [
    "### Projetando o gráfico de custos"
   ]
  },
  {
   "cell_type": "code",
   "execution_count": 19,
   "metadata": {
    "scrolled": false
   },
   "outputs": [
    {
     "data": {
      "image/png": "[encoded data removed]",
      "text/plain": [
       "<Figure size 432x288 with 1 Axes>"
      ]
     },
     "metadata": {},
     "output_type": "display_data"
    }
   ],
   "source": [
    "t0s = [0.0, 0.0, 0.0, 0.0, 0.0, 0.0]\n",
    "t1s = [0.0, 0.5, 1.0, 1.5, 2.0, 2.5]\n",
    "plt.plot(t1s, [cost_function(X, fx, hypothesis, a, b) for a, b in zip(t0s, t1s)], c='green')\n",
    "plt.xlabel(r'$\\theta_1$')\n",
    "plt.ylabel(r'$J(\\theta_1)$')\n",
    "plt.title(u'Custo associado ao parâmetro ' + r'$\\theta_1$')\n",
    "plt.show()"
   ]
  },
  {
   "cell_type": "markdown",
   "metadata": {},
   "source": [
    "***\n",
    "\n",
    "### Atualização de pesos"
   ]
  },
  {
   "cell_type": "code",
   "execution_count": 20,
   "metadata": {},
   "outputs": [],
   "source": [
    "def update_t0(X, fx, h, t0, t1, alpha):\n",
    "    \"\"\"\n",
    "    Atualiza t0 com base nos N valores passados para esta função.\n",
    "    \"\"\"\n",
    "    \n",
    "    N = len(X)\n",
    "    soma = 0.\n",
    "    \n",
    "    for i in range(N):\n",
    "        soma += (h(X[i], t0, t1) - fx[i])\n",
    "    \n",
    "    return t0 - ((alpha * (1./float(N))) * soma)\n",
    "\n",
    "\n",
    "def update_t1(X, fx, h, t0, t1, alpha):\n",
    "    \"\"\"\n",
    "    Atualiza t1 com base nos N valores passados para esta função.\n",
    "    \"\"\"\n",
    "    N = len(X)\n",
    "    \n",
    "    soma = 0.\n",
    "    for i in range(N):\n",
    "        soma += (h(X[i], t0, t1) - fx[i]) * X[i]\n",
    "    \n",
    "    return t1 - ((alpha * (1./float(N))) * soma)"
   ]
  },
  {
   "cell_type": "code",
   "execution_count": 22,
   "metadata": {},
   "outputs": [
    {
     "name": "stdout",
     "output_type": "stream",
     "text": [
      "antigo theta0: 0.100000 novo theta0: -1.110332\n",
      "antigo theta1: 1.000000 novo theta1: -7.445537\n"
     ]
    }
   ],
   "source": [
    "# redefinindo os valores aqui, por conveniência\n",
    "\n",
    "t0 = 0.1\n",
    "t1 = 1.\n",
    "alpha = 0.5\n",
    "X, fx = np.array(df['populacao'], dtype=float), np.array(df['lucro'], dtype=float)\n",
    "\n",
    "temp0 = update_t0(X, fx, hypothesis, t0, t1, alpha)\n",
    "temp1 = update_t1(X, fx, hypothesis, t0, t1, alpha)\n",
    "\n",
    "print 'antigo theta0: %f novo theta0: %f' % (t0, temp0)\n",
    "print 'antigo theta1: %f novo theta1: %f' % (t1, temp1)"
   ]
  },
  {
   "cell_type": "code",
   "execution_count": 25,
   "metadata": {},
   "outputs": [
    {
     "data": {
      "image/png": "[encoded data removed]",
      "text/plain": [
       "<Figure size 432x288 with 1 Axes>"
      ]
     },
     "metadata": {},
     "output_type": "display_data"
    }
   ],
   "source": [
    "plt.plot(X, [hypothesis(x, t0, t1) for x in X], label=u'modelo antigo', c='blue')\n",
    "plt.plot(X, [hypothesis(x, temp0, temp1) for x in X], label=u'novo modelo', c='purple')\n",
    "plt.scatter(X, fx, label='dados reais', c='red')\n",
    "plt.legend(loc='lower left')\n",
    "plt.show()"
   ]
  },
  {
   "cell_type": "markdown",
   "metadata": {},
   "source": [
    "### Regressão Linear univariada (processo completo)\n"
   ]
  },
  {
   "cell_type": "code",
   "execution_count": 27,
   "metadata": {},
   "outputs": [
    {
     "name": "stdout",
     "output_type": "stream",
     "text": [
      "custo na época 0: 10264.882675\n",
      "custo na época 1: 1409980.445080\n",
      "custo na época 2: 160790178.410261\n",
      "custo na época 3: 18033360573.194538\n",
      "custo na época 4: 2019353173107.301270\n",
      "custo na época 5: 226091032836309.562500\n",
      "custo na época 6: 25313271460303196.000000\n",
      "custo na época 7: 2834083459927512064.000000\n",
      "custo na época 8: 317305017419365285888.000000\n",
      "custo na época 9: 35525585006922962042880.000000\n"
     ]
    }
   ],
   "source": [
    "# redefinindo os valores aqui, por conveniência\n",
    "\n",
    "t0 = 0.1  # theta 0\n",
    "t1 = 1.  # theta 1\n",
    "alpha = 0.1  # taxa de aprendizado\n",
    "X, fx = np.array(df['populacao'], dtype=float), np.array(df['lucro'], dtype=float) # X e fx\n",
    "threshold = 0.001  # diferença aceitável entre custos\n",
    "batch_size = 2  # tamanho do batch\n",
    "epoch = 0\n",
    "max_epoch = 10  # máximo número de iterações permitido\n",
    "\n",
    "\n",
    "prev = np.inf  # custo anterior\n",
    "curr = cost_function(X, fx, hypothesis, t0, t1)  # custo atual\n",
    "while (abs(curr - prev) > threshold) and (epoch < max_epoch):\n",
    "    bc = 0  # contador de quantas instâncias passaram pelo batch\n",
    "    \n",
    "    for i in range(batch_size):\n",
    "        X_local = X[bc:(bc + batch_size)]\n",
    "        fx_local = fx[bc:(bc + batch_size)]\n",
    "        \n",
    "        temp0 = update_t0(X_local, fx_local, hypothesis, t0, t1, alpha)\n",
    "        temp1 = update_t1(X_local, fx_local, hypothesis, t0, t1, alpha)\n",
    "        \n",
    "        t0 = temp0\n",
    "        t1 = temp1\n",
    "        \n",
    "        bc += 1\n",
    "    \n",
    "    prev = curr\n",
    "    curr = cost_function(X, fx, hypothesis, t0, t1)\n",
    "    print 'custo na época %d: %f' % (epoch, curr)\n",
    "    epoch += 1\n"
   ]
  },
  {
   "cell_type": "markdown",
   "metadata": {},
   "source": [
    "# Exercício"
   ]
  },
  {
   "cell_type": "code",
   "execution_count": 5,
   "metadata": {},
   "outputs": [
    {
     "name": "stdout",
     "output_type": "stream",
     "text": [
      "custo na época 0: 103588707294442984476508160.000000\n",
      "custo na época 1: 210913074974230844302020487193006093025411072.000000\n",
      "custo na época 2: 429432187705221381466682854631615852829267553791090438485049344.000000\n",
      "custo na época 3: 874350743119285322999469412977428921396838169995201328910104714605723665397972992.000000\n",
      "custo na época 4: 1780232697689677972918878929697583774559529460827968382287878341381618024228319069495099064374525952.000000\n",
      "custo na época 5: 3624664910350629560788043173843348001736169531152234270006127173320984592911724384860971539100894293583263679245189120.000000\n",
      "custo na época 6: 7380044041083734427718418142607935444427123381756209549368906284624200702321509843911008857930361587709070297955895857264529024563019776.000000\n",
      "custo na época 7: 15026230395202778597634680778892555333248395060284269946443786612393864566905403112109307140121094727278655624726291413429562314661291466775767530556358656.000000\n",
      "custo na época 8: 30594343154700107330598068068097487059068328760587280292153540277972382968904982104230613514973543370889561109561887883155360456043012639887939746929718174311760258991652864.000000\n",
      "custo na época 9: 62291992632189102824715650938979041797597801649129479863249215087002853813461607276054744283718248092371213904751455597654712026407240454775307610422100645405304295084791006008324338231541760.000000\n"
     ]
    }
   ],
   "source": []
  }
 ],
 "metadata": {
  "anaconda-cloud": {},
  "kernelspec": {
   "display_name": "Python 2",
   "language": "python",
   "name": "python2"
  },
  "language_info": {
   "codemirror_mode": {
    "name": "ipython",
    "version": 2
   },
   "file_extension": ".py",
   "mimetype": "text/x-python",
   "name": "python",
   "nbconvert_exporter": "python",
   "pygments_lexer": "ipython2",
   "version": "2.7.15"
  }
 },
 "nbformat": 4,
 "nbformat_minor": 2
}
