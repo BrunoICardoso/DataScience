{
 "cells": [
  {
   "cell_type": "markdown",
   "metadata": {},
   "source": [
    "# Trabaho 1 - Machine Learning 1\n",
    "#### Autores: \n",
    "Roberto Coutinho  \n",
    "Thais Galho"
   ]
  },
  {
   "cell_type": "markdown",
   "metadata": {},
   "source": [
    "Atividade:  \n",
    "\n",
    "Agrupe os dados do censo americano de 2005 com o K-means e algum algoritmo hierarquico  \n",
    "Não considerar a classe do conjunto de dados  \n",
    "Somente um conjunto de dados  \n",
    "Dados devem ser pré-processados  \n",
    "Usar vários números de grupos (ex: 2 a 20)  \n",
    "Medir a qualidade dos grupos com a silhueta (podem usar outros também)  \n",
    "Qual é o melhor número de grupos? Qual é o melhor algoritmo? Motivos?  \n",
    "Entregar via BB o código python ou jupyter e o passo a passo realizado (ex, motivos do pre-processamento etc.) em um zip."
   ]
  },
  {
   "cell_type": "markdown",
   "metadata": {},
   "source": [
    "### Imports"
   ]
  },
  {
   "cell_type": "code",
   "execution_count": 2,
   "metadata": {},
   "outputs": [],
   "source": [
    "import matplotlib.pyplot as plt\n",
    "import numpy as np\n",
    "import pandas as pd\n",
    "\n",
    "from IPython.display import display\n",
    "from scipy.cluster.hierarchy import dendrogram, linkage, fcluster\n",
    "from sklearn.cluster import KMeans\n",
    "\n",
    "from sklearn.cluster import KMeans\n",
    "from sklearn.metrics import silhouette_score, calinski_harabaz_score\n",
    "from sklearn.metrics import confusion_matrix\n",
    "\n"
   ]
  },
  {
   "cell_type": "markdown",
   "metadata": {},
   "source": [
    "Read the dataset and show"
   ]
  },
  {
   "cell_type": "code",
   "execution_count": 63,
   "metadata": {},
   "outputs": [
    {
     "name": "stdout",
     "output_type": "stream",
     "text": [
      "32561 total records\n"
     ]
    },
    {
     "data": {
      "text/html": [
       "<div>\n",
       "<style scoped>\n",
       "    .dataframe tbody tr th:only-of-type {\n",
       "        vertical-align: middle;\n",
       "    }\n",
       "\n",
       "    .dataframe tbody tr th {\n",
       "        vertical-align: top;\n",
       "    }\n",
       "\n",
       "    .dataframe thead th {\n",
       "        text-align: right;\n",
       "    }\n",
       "</style>\n",
       "<table border=\"1\" class=\"dataframe\">\n",
       "  <thead>\n",
       "    <tr style=\"text-align: right;\">\n",
       "      <th></th>\n",
       "      <th>age</th>\n",
       "      <th>workclass</th>\n",
       "      <th>fnlwgt</th>\n",
       "      <th>education</th>\n",
       "      <th>education-num</th>\n",
       "      <th>marital-status</th>\n",
       "      <th>occupation</th>\n",
       "      <th>relationship</th>\n",
       "      <th>race</th>\n",
       "      <th>sex</th>\n",
       "      <th>capital-gain</th>\n",
       "      <th>capital-loss</th>\n",
       "      <th>hours-per-week</th>\n",
       "      <th>native-country</th>\n",
       "      <th>class</th>\n",
       "    </tr>\n",
       "  </thead>\n",
       "  <tbody>\n",
       "    <tr>\n",
       "      <th>0</th>\n",
       "      <td>39</td>\n",
       "      <td>State-gov</td>\n",
       "      <td>77516</td>\n",
       "      <td>Bachelors</td>\n",
       "      <td>13</td>\n",
       "      <td>Never-married</td>\n",
       "      <td>Adm-clerical</td>\n",
       "      <td>Not-in-family</td>\n",
       "      <td>White</td>\n",
       "      <td>Male</td>\n",
       "      <td>2174</td>\n",
       "      <td>0</td>\n",
       "      <td>40</td>\n",
       "      <td>United-States</td>\n",
       "      <td>&lt;=50K</td>\n",
       "    </tr>\n",
       "    <tr>\n",
       "      <th>1</th>\n",
       "      <td>50</td>\n",
       "      <td>Self-emp-not-inc</td>\n",
       "      <td>83311</td>\n",
       "      <td>Bachelors</td>\n",
       "      <td>13</td>\n",
       "      <td>Married-civ-spouse</td>\n",
       "      <td>Exec-managerial</td>\n",
       "      <td>Husband</td>\n",
       "      <td>White</td>\n",
       "      <td>Male</td>\n",
       "      <td>0</td>\n",
       "      <td>0</td>\n",
       "      <td>13</td>\n",
       "      <td>United-States</td>\n",
       "      <td>&lt;=50K</td>\n",
       "    </tr>\n",
       "    <tr>\n",
       "      <th>2</th>\n",
       "      <td>38</td>\n",
       "      <td>Private</td>\n",
       "      <td>215646</td>\n",
       "      <td>HS-grad</td>\n",
       "      <td>9</td>\n",
       "      <td>Divorced</td>\n",
       "      <td>Handlers-cleaners</td>\n",
       "      <td>Not-in-family</td>\n",
       "      <td>White</td>\n",
       "      <td>Male</td>\n",
       "      <td>0</td>\n",
       "      <td>0</td>\n",
       "      <td>40</td>\n",
       "      <td>United-States</td>\n",
       "      <td>&lt;=50K</td>\n",
       "    </tr>\n",
       "    <tr>\n",
       "      <th>3</th>\n",
       "      <td>53</td>\n",
       "      <td>Private</td>\n",
       "      <td>234721</td>\n",
       "      <td>11th</td>\n",
       "      <td>7</td>\n",
       "      <td>Married-civ-spouse</td>\n",
       "      <td>Handlers-cleaners</td>\n",
       "      <td>Husband</td>\n",
       "      <td>Black</td>\n",
       "      <td>Male</td>\n",
       "      <td>0</td>\n",
       "      <td>0</td>\n",
       "      <td>40</td>\n",
       "      <td>United-States</td>\n",
       "      <td>&lt;=50K</td>\n",
       "    </tr>\n",
       "    <tr>\n",
       "      <th>4</th>\n",
       "      <td>28</td>\n",
       "      <td>Private</td>\n",
       "      <td>338409</td>\n",
       "      <td>Bachelors</td>\n",
       "      <td>13</td>\n",
       "      <td>Married-civ-spouse</td>\n",
       "      <td>Prof-specialty</td>\n",
       "      <td>Wife</td>\n",
       "      <td>Black</td>\n",
       "      <td>Female</td>\n",
       "      <td>0</td>\n",
       "      <td>0</td>\n",
       "      <td>40</td>\n",
       "      <td>Cuba</td>\n",
       "      <td>&lt;=50K</td>\n",
       "    </tr>\n",
       "  </tbody>\n",
       "</table>\n",
       "</div>"
      ],
      "text/plain": [
       "   age          workclass  fnlwgt   education  education-num  \\\n",
       "0   39          State-gov   77516   Bachelors             13   \n",
       "1   50   Self-emp-not-inc   83311   Bachelors             13   \n",
       "2   38            Private  215646     HS-grad              9   \n",
       "3   53            Private  234721        11th              7   \n",
       "4   28            Private  338409   Bachelors             13   \n",
       "\n",
       "        marital-status          occupation    relationship    race      sex  \\\n",
       "0        Never-married        Adm-clerical   Not-in-family   White     Male   \n",
       "1   Married-civ-spouse     Exec-managerial         Husband   White     Male   \n",
       "2             Divorced   Handlers-cleaners   Not-in-family   White     Male   \n",
       "3   Married-civ-spouse   Handlers-cleaners         Husband   Black     Male   \n",
       "4   Married-civ-spouse      Prof-specialty            Wife   Black   Female   \n",
       "\n",
       "   capital-gain  capital-loss  hours-per-week  native-country   class  \n",
       "0          2174             0              40   United-States   <=50K  \n",
       "1             0             0              13   United-States   <=50K  \n",
       "2             0             0              40   United-States   <=50K  \n",
       "3             0             0              40   United-States   <=50K  \n",
       "4             0             0              40            Cuba   <=50K  "
      ]
     },
     "execution_count": 63,
     "metadata": {},
     "output_type": "execute_result"
    }
   ],
   "source": [
    "columns= [\"age\", \n",
    "        \"workclass\",\n",
    "        \"fnlwgt\",\n",
    "        \"education\",\n",
    "        \"education-num\",\n",
    "        \"marital-status\",\n",
    "        \"occupation\",\n",
    "        \"relationship\",\n",
    "        \"race\",\n",
    "        \"sex\",\n",
    "        \"capital-gain\",\n",
    "        \"capital-loss\",\n",
    "        \"hours-per-week\",\n",
    "        \"native-country\",\n",
    "        \"class\"]\n",
    "\n",
    "censo = pd.read_csv('censo/adult.data', \n",
    "                    nrows=None, \n",
    "                    header=None,\n",
    "                    index_col=None)\n",
    "\n",
    "censo.columns = columns\n",
    "\n",
    "print str(len(censo)) + ' total records' \n",
    "    \n",
    "censo.head(5)"
   ]
  },
  {
   "cell_type": "code",
   "execution_count": 49,
   "metadata": {},
   "outputs": [
    {
     "data": {
      "text/plain": [
       "32561"
      ]
     },
     "execution_count": 49,
     "metadata": {},
     "output_type": "execute_result"
    }
   ],
   "source": []
  },
  {
   "cell_type": "markdown",
   "metadata": {},
   "source": [
    "Remove the class labels"
   ]
  },
  {
   "cell_type": "code",
   "execution_count": 66,
   "metadata": {},
   "outputs": [],
   "source": [
    "#Nao considerar a classe do conjunto de dados - coluna 14 representa a classe dos dados deste dataset\n",
    "#censo.drop(columns=[\"gain\"] ,inplace=True)\n",
    "#censo.head(3)"
   ]
  },
  {
   "cell_type": "markdown",
   "metadata": {},
   "source": [
    "Filter the only the columns to test"
   ]
  },
  {
   "cell_type": "code",
   "execution_count": 68,
   "metadata": {},
   "outputs": [
    {
     "name": "stdout",
     "output_type": "stream",
     "text": [
      "9768 records\n"
     ]
    },
    {
     "data": {
      "text/html": [
       "<div>\n",
       "<style scoped>\n",
       "    .dataframe tbody tr th:only-of-type {\n",
       "        vertical-align: middle;\n",
       "    }\n",
       "\n",
       "    .dataframe tbody tr th {\n",
       "        vertical-align: top;\n",
       "    }\n",
       "\n",
       "    .dataframe thead th {\n",
       "        text-align: right;\n",
       "    }\n",
       "</style>\n",
       "<table border=\"1\" class=\"dataframe\">\n",
       "  <thead>\n",
       "    <tr style=\"text-align: right;\">\n",
       "      <th></th>\n",
       "      <th>age</th>\n",
       "      <th>hours-per-week</th>\n",
       "    </tr>\n",
       "  </thead>\n",
       "  <tbody>\n",
       "    <tr>\n",
       "      <th>31204</th>\n",
       "      <td>44</td>\n",
       "      <td>40</td>\n",
       "    </tr>\n",
       "    <tr>\n",
       "      <th>3290</th>\n",
       "      <td>33</td>\n",
       "      <td>40</td>\n",
       "    </tr>\n",
       "    <tr>\n",
       "      <th>13911</th>\n",
       "      <td>50</td>\n",
       "      <td>60</td>\n",
       "    </tr>\n",
       "    <tr>\n",
       "      <th>16570</th>\n",
       "      <td>18</td>\n",
       "      <td>20</td>\n",
       "    </tr>\n",
       "    <tr>\n",
       "      <th>23427</th>\n",
       "      <td>30</td>\n",
       "      <td>40</td>\n",
       "    </tr>\n",
       "  </tbody>\n",
       "</table>\n",
       "</div>"
      ],
      "text/plain": [
       "       age  hours-per-week\n",
       "31204   44              40\n",
       "3290    33              40\n",
       "13911   50              60\n",
       "16570   18              20\n",
       "23427   30              40"
      ]
     },
     "execution_count": 68,
     "metadata": {},
     "output_type": "execute_result"
    }
   ],
   "source": [
    "columns_to_filter = ['age', 'hours-per-week']\n",
    "\n",
    "df = censo.loc[:, columns_to_filter]\n",
    "\n",
    "df = df.sample(frac=0.3) \n",
    "\n",
    "print str(len(df)) + ' records'\n",
    "\n",
    "df.head()"
   ]
  },
  {
   "cell_type": "code",
   "execution_count": null,
   "metadata": {},
   "outputs": [],
   "source": []
  },
  {
   "cell_type": "code",
   "execution_count": 69,
   "metadata": {},
   "outputs": [
    {
     "data": {
      "text/plain": [
       "<matplotlib.legend.Legend at 0x1a18798610>"
      ]
     },
     "execution_count": 69,
     "metadata": {},
     "output_type": "execute_result"
    },
    {
     "data": {
      "image/png": "[encoded data removed]",
      "text/plain": [
       "<Figure size 432x288 with 1 Axes>"
      ]
     },
     "metadata": {},
     "output_type": "display_data"
    }
   ],
   "source": [
    "plt.figure()\n",
    "plt.plot(df, 'ro'); \n",
    "plt.legend()"
   ]
  },
  {
   "cell_type": "markdown",
   "metadata": {},
   "source": [
    "### Pré-processamento (Normalização e Discretização)"
   ]
  },
  {
   "cell_type": "code",
   "execution_count": null,
   "metadata": {},
   "outputs": [],
   "source": [
    "\n"
   ]
  },
  {
   "cell_type": "markdown",
   "metadata": {},
   "source": [
    "### Execução "
   ]
  },
  {
   "cell_type": "code",
   "execution_count": 59,
   "metadata": {
    "scrolled": false
   },
   "outputs": [
    {
     "name": "stdout",
     "output_type": "stream",
     "text": [
      "Number of max clusters to validate : 5\n",
      "\n",
      "##########################################################\n",
      "\n",
      "Starting processing with 2 clusters\n",
      "Results :\n",
      "\n",
      "Metrics:\n",
      "  n_clusters  silhuete metric  calinski metric   method\n",
      "1          2         0.632145        11.828390  linkage\n",
      "0          2         0.391289      5875.369968   kmeans\n",
      "\n",
      "Centroids:\n",
      "[[51.59694129 42.06364085]\n",
      " [28.92387119 39.14018201]]\n",
      "\n",
      "Labels:\n",
      "[0 0 1 ... 0 0 0]\n",
      "\n",
      "\n",
      "\n",
      "--------------------------------\n",
      "\n",
      "Starting processing with 3 clusters\n",
      "Results :\n",
      "\n",
      "Metrics:\n",
      "  n_clusters  silhuete metric  calinski metric   method\n",
      "1          2         0.632145        11.828390  linkage\n",
      "3          3         0.539696        33.507558  linkage\n",
      "2          3         0.397864      5962.616410   kmeans\n",
      "0          2         0.391289      5875.369968   kmeans\n",
      "\n",
      "Centroids:\n",
      "[[38.55223069 56.9570185 ]\n",
      " [28.63939456 35.939865  ]\n",
      " [53.78756988 37.41400855]]\n",
      "\n",
      "Labels:\n",
      "[2 2 1 ... 2 2 0]\n",
      "\n",
      "\n",
      "\n",
      "--------------------------------\n",
      "\n",
      "Starting processing with 4 clusters\n",
      "Results :\n",
      "\n",
      "Metrics:\n",
      "  n_clusters  silhuete metric  calinski metric   method\n",
      "1          2         0.632145        11.828390  linkage\n",
      "3          3         0.539696        33.507558  linkage\n",
      "5          4         0.528292        40.090919  linkage\n",
      "4          4         0.423528      6388.259720   kmeans\n",
      "2          3         0.397864      5962.616410   kmeans\n",
      "0          2         0.391289      5875.369968   kmeans\n",
      "\n",
      "Centroids:\n",
      "[[40.6213206  60.70883055]\n",
      " [30.85726892 41.14405471]\n",
      " [23.85084428 20.62945591]\n",
      " [54.28674451 37.55666209]]\n",
      "\n",
      "Labels:\n",
      "[3 3 1 ... 3 3 0]\n",
      "\n",
      "\n",
      "\n",
      "--------------------------------\n",
      "\n",
      "Starting processing with 5 clusters\n",
      "Results :\n",
      "\n",
      "Metrics:\n",
      "  n_clusters  silhuete metric  calinski metric   method\n",
      "1          2         0.632145        11.828390  linkage\n",
      "3          3         0.539696        33.507558  linkage\n",
      "5          4         0.528292        40.090919  linkage\n",
      "7          5         0.525617        32.258280  linkage\n",
      "6          5         0.440376      7035.840291   kmeans\n",
      "4          4         0.423528      6388.259720   kmeans\n",
      "2          3         0.397864      5962.616410   kmeans\n",
      "0          2         0.391289      5875.369968   kmeans\n",
      "\n",
      "Centroids:\n",
      "[[30.21564531 41.44034355]\n",
      " [39.21816168 64.40088594]\n",
      " [64.6875     18.38392857]\n",
      " [50.78878321 41.69530994]\n",
      " [23.61037736 20.87641509]]\n",
      "\n",
      "Labels:\n",
      "[3 3 4 ... 3 3 1]\n",
      "\n",
      "\n",
      "\n",
      "--------------------------------\n",
      "\n",
      "Starting processing with 6 clusters\n",
      "Results :\n",
      "\n",
      "Metrics:\n",
      "  n_clusters  silhuete metric  calinski metric   method\n",
      "1          2         0.632145        11.828390  linkage\n",
      "3          3         0.539696        33.507558  linkage\n",
      "5          4         0.528292        40.090919  linkage\n",
      "7          5         0.525617        32.258280  linkage\n",
      "9          6         0.517066        27.475991  linkage\n",
      "6          5         0.440376      7035.840291   kmeans\n",
      "4          4         0.423528      6388.259720   kmeans\n",
      "8          6         0.406207      7531.891366   kmeans\n",
      "2          3         0.397864      5962.616410   kmeans\n",
      "0          2         0.391289      5875.369968   kmeans\n",
      "\n",
      "Centroids:\n",
      "[[56.54945055 41.91960671]\n",
      " [26.6471625  41.42368699]\n",
      " [39.25481314 64.53567384]\n",
      " [23.46634615 20.76730769]\n",
      " [40.48681471 41.35079806]\n",
      " [63.78589421 16.16876574]]\n",
      "\n",
      "Labels:\n",
      "[4 0 3 ... 4 0 2]\n",
      "\n",
      "\n",
      "\n",
      "--------------------------------\n",
      "\n"
     ]
    }
   ],
   "source": [
    "scores = pd.DataFrame(columns=[\"n_clusters\", \n",
    "                               \"silhuete metric\",\n",
    "                               \"calinski metric\", \n",
    "                               \"method\",])\n",
    "\n",
    "num_of_max_clusters = 5  # Number of clusters\n",
    "\n",
    "print \"Number of max clusters to validate : \"+str(num_of_max_clusters)\n",
    "print\n",
    "print '##########################################################'\n",
    "print\n",
    "\n",
    "for i in range(num_of_max_clusters):\n",
    "    \n",
    "    i = i + 2 #Does not make sense do one cluster! Start with two.\n",
    "    \n",
    "    print 'Starting processing with '+str(i)+' clusters...'\n",
    "    \n",
    "    ##########################################################\n",
    "    # Run kmeans\n",
    "    ##########################################################    \n",
    "    \n",
    "    kmeans = KMeans(n_clusters=i, \n",
    "                    init='k-means++', \n",
    "                    n_init=10, \n",
    "                    max_iter=300)\n",
    "    \n",
    "    kmeans_clust = kmeans.fit(df)\n",
    "    \n",
    "    centroids = kmeans.cluster_centers_\n",
    "    labels = kmeans.labels_    \n",
    "    \n",
    "    #Calculate the scores\n",
    "    score_silhuete = silhouette_score(df,labels)\n",
    "    score_ca = calinski_harabaz_score(df,labels)   \n",
    "    \n",
    "    #Add to score dataframe\n",
    "    scores.loc[len(scores)] = [i, score_silhuete, score_ca, 'kmeans']\n",
    "    \n",
    "    ##########################################################\n",
    "    # Run linkage\n",
    "    ##########################################################\n",
    "    \n",
    "    link = linkage(df, 'single')\n",
    "    \n",
    "    clusters = fcluster(link, \n",
    "                        i, \n",
    "                        criterion='maxclust')\n",
    "    \n",
    "    #Calculate the scores\n",
    "    score_silhuete_link = silhouette_score(df,clusters)\n",
    "    score_ca_link = calinski_harabaz_score(df,clusters)    \n",
    "    \n",
    "    #Add to score dataframe\n",
    "    scores.loc[len(scores)] = [i, score_silhuete_link, score_ca_link, 'linkage']\n",
    "    \n",
    "    #Calculate the confusion matrix : Predictions X ground truth\n",
    "    #conf_matrix = confusion_matrix(df.astype(int)['class'], labels)\n",
    "    \n",
    "    \n",
    "   \n",
    "    # Print results\n",
    "    print 'Results :'\n",
    "    print\n",
    "    print 'Metrics:'\n",
    "    print scores.sort_values(['silhuete metric', 'calinski metric'], ascending=[False, False])\n",
    "    print\n",
    "    print 'Centroids:'\n",
    "    print centroids\n",
    "    print\n",
    "    print 'Labels:'\n",
    "    print labels\n",
    "    print \n",
    "    #print 'Confusion Matrix: Predicted X Ground Truth'\n",
    "    print #conf_matrix\n",
    "    print\n",
    "    print '--------------------------------'\n",
    "    print \n",
    "    \n",
    "    \n",
    "    \n",
    "    #print link\n",
    "    #print '--------------------------------'\n",
    "\n",
    "\n"
   ]
  },
  {
   "cell_type": "code",
   "execution_count": 39,
   "metadata": {},
   "outputs": [
    {
     "name": "stdout",
     "output_type": "stream",
     "text": [
      "  n_clusters  silhuete metric  calinski metric   method\n",
      "1          2         0.616220        10.531000  linkage\n",
      "3          3         0.500491         8.428047  linkage\n",
      "5          4         0.496483         8.268974  linkage\n",
      "7          5         0.483591         9.517800  linkage\n",
      "9          6         0.482730        81.523494  linkage\n",
      "6          5         0.437572      7136.421756   kmeans\n",
      "4          4         0.424677      6469.119652   kmeans\n",
      "8          6         0.410045      7648.626393   kmeans\n",
      "2          3         0.408907      6109.278677   kmeans\n",
      "0          2         0.390011      5879.336595   kmeans\n"
     ]
    }
   ],
   "source": [
    "print scores.sort_values(['silhuete metric', 'calinski metric'], ascending=[False, False]).head(10)"
   ]
  },
  {
   "cell_type": "code",
   "execution_count": 70,
   "metadata": {},
   "outputs": [
    {
     "data": {
      "image/png": "[encoded data removed]",
      "text/plain": [
       "<Figure size 432x288 with 1 Axes>"
      ]
     },
     "metadata": {},
     "output_type": "display_data"
    }
   ],
   "source": [
    "def fancy_dendrogram(*args, **kwargs):\n",
    "    max_d = kwargs.pop('max_d', None)\n",
    "    if max_d and 'color_threshold' not in kwargs:\n",
    "        kwargs['color_threshold'] = max_d\n",
    "    annotate_above = kwargs.pop('annotate_above', 0)\n",
    "\n",
    "    ddata = dendrogram(*args, **kwargs)\n",
    "\n",
    "    if not kwargs.get('no_plot', False):\n",
    "        plt.title('Hierarchical Clustering Dendrogram (truncated)')\n",
    "        plt.xlabel('sample index or (cluster size)')\n",
    "        plt.ylabel('distance')\n",
    "        for i, d, c in zip(ddata['icoord'], ddata['dcoord'], ddata['color_list']):\n",
    "            x = 0.5 * sum(i[1:3])\n",
    "            y = d[1]\n",
    "            if y > annotate_above:\n",
    "                plt.plot(x, y, 'o', c=c)\n",
    "                plt.annotate(\"%.3g\" % y, (x, y), xytext=(0, -5),\n",
    "                             textcoords='offset points',\n",
    "                             va='top', ha='center')\n",
    "        if max_d:\n",
    "            plt.axhline(y=max_d, c='k')\n",
    "    return ddata\n",
    "\n",
    "max_d = 5  # max_d as in max_distance\n",
    "\n",
    "fancy_dendrogram(\n",
    "    link,\n",
    "    truncate_mode='lastp',\n",
    "    p=30,\n",
    "    leaf_rotation=90.,\n",
    "    leaf_font_size=12.,\n",
    "    show_contracted=True,\n",
    "    annotate_above=10,\n",
    "    max_d=max_d,  # plot a horizontal cut-off line\n",
    ")\n",
    "plt.show()"
   ]
  },
  {
   "cell_type": "code",
   "execution_count": null,
   "metadata": {},
   "outputs": [],
   "source": [
    "print df.astype(int)['class']"
   ]
  },
  {
   "cell_type": "code",
   "execution_count": null,
   "metadata": {},
   "outputs": [],
   "source": []
  },
  {
   "cell_type": "code",
   "execution_count": null,
   "metadata": {},
   "outputs": [],
   "source": []
  }
 ],
 "metadata": {
  "kernelspec": {
   "display_name": "Python 2",
   "language": "python",
   "name": "python2"
  },
  "language_info": {
   "codemirror_mode": {
    "name": "ipython",
    "version": 2
   },
   "file_extension": ".py",
   "mimetype": "text/x-python",
   "name": "python",
   "nbconvert_exporter": "python",
   "pygments_lexer": "ipython2",
   "version": "2.7.15"
  }
 },
 "nbformat": 4,
 "nbformat_minor": 2
}
