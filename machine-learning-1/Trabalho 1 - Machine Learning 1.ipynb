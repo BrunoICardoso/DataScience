{
 "cells": [
  {
   "cell_type": "markdown",
   "metadata": {},
   "source": [
    "# Trabaho 1 - Machine Learning 1\n",
    "#### Autores: \n",
    "Roberto Coutinho  \n",
    "Thais Galho"
   ]
  },
  {
   "cell_type": "markdown",
   "metadata": {},
   "source": [
    "Agrupe os dados do censo americano de 2005 com o K-means e algum algoritmo hierarquico  \n",
    "Não considerar a classe do conjunto de dados  \n",
    "Somente um conjunto de dados  \n",
    "Dados devem ser pré-processados  \n",
    "Usar vários números de grupos (ex: 2 a 20)  \n",
    "Medir a qualidade dos grupos com a silhueta (podem usar outros também)  \n",
    "Qual é o melhor número de grupos? Qual é o melhor algoritmo? Motivos?  \n",
    "Entregar via BB o código python ou jupyter e o passo a passo realizado (ex, motivos do pre-processamento etc.) em um zip."
   ]
  },
  {
   "cell_type": "markdown",
   "metadata": {},
   "source": [
    "### Imports"
   ]
  },
  {
   "cell_type": "code",
   "execution_count": 41,
   "metadata": {},
   "outputs": [],
   "source": [
    "from sklearn.cluster import KMeans\n",
    "from matplotlib import pyplot as plt\n",
    "import numpy as np\n",
    "import pandas as pd\n",
    "from IPython.display import display\n",
    "from scipy.cluster.hierarchy import dendrogram, linkage, fcluster\n",
    "from sklearn.metrics import silhouette_score, calinski_harabaz_score"
   ]
  },
  {
   "cell_type": "markdown",
   "metadata": {},
   "source": [
    "### Pré-processamento"
   ]
  },
  {
   "cell_type": "code",
   "execution_count": 54,
   "metadata": {},
   "outputs": [],
   "source": [
    "from sklearn.datasets import load_iris\n",
    "\n",
    "data = load_iris()\n",
    "\n",
    "np.random.seed(10)\n",
    "\n",
    "df = pd.DataFrame(\n",
    "    np.hstack((\n",
    "        data['data'], data['target'].reshape(data['target'].shape[0], 1)\n",
    "    )), columns=data['feature_names'] + ['class']\n",
    ")\n",
    "\n"
   ]
  },
  {
   "cell_type": "markdown",
   "metadata": {},
   "source": [
    "### Execução "
   ]
  },
  {
   "cell_type": "code",
   "execution_count": 115,
   "metadata": {
    "scrolled": false
   },
   "outputs": [
    {
     "name": "stdout",
     "output_type": "stream",
     "text": [
      "  n_clusters  silhuete metric  calinski metric   method\n",
      "1          2         0.682226       493.881371  linkage\n",
      "0          2         0.679803       497.157354   kmeans\n",
      "\n",
      "[[6.27373737 2.87575758 4.92525253 1.68181818 1.50505051]\n",
      " [5.00784314 3.4        1.49411765 0.26078431 0.01960784]]\n",
      "\n",
      "[2 2 2 2 2 2 2 2 2 2 2 2 2 2 2 2 2 2 2 2 2 2 2 2 2 2 2 2 2 2 2 2 2 2 2 2 2\n",
      " 2 2 2 2 2 2 2 2 2 2 2 2 2 2 2 2 2 2 2 2 2 2 2 2 2 2 2 2 2 2 2 2 2 2 2 2 2\n",
      " 2 2 2 2 2 2 2 2 2 2 2 2 2 2 2 2 2 2 2 2 2 2 2 2 3 2 2 2 2 2 2 2 2 2 2 2 2\n",
      " 2 2 2 2 2 2 2 2 2 2 2 2 2 2 2 2 2 2 2 2 2 2 2 2 2 2 2 2 2 2 2 2 2 2 2 2 2\n",
      " 2 2]\n",
      "\n",
      "--------------------------------\n",
      "\n",
      "  n_clusters  silhuete metric  calinski metric   method\n",
      "1          2         0.682226       493.881371  linkage\n",
      "0          2         0.679803       497.157354   kmeans\n",
      "2          3         0.581694       583.819609   kmeans\n",
      "3          3         0.578011       568.547745  linkage\n",
      "\n",
      "[[5.006      3.418      1.464      0.244      0.        ]\n",
      " [6.62244898 2.98367347 5.57346939 2.03265306 2.        ]\n",
      " [5.91568627 2.76470588 4.26470588 1.33333333 1.01960784]]\n",
      "\n",
      "[1 1 1 1 1 1 1 1 1 1 1 1 1 1 1 1 1 1 1 1 1 1 1 1 1 1 1 1 1 1 1 1 1 1 1 1 1\n",
      " 1 1 1 1 1 1 1 1 1 1 1 1 1 4 4 4 4 4 4 4 4 4 4 4 4 4 4 4 4 4 4 4 4 4 4 4 4\n",
      " 4 4 4 4 4 4 4 4 4 4 4 4 4 4 4 4 4 4 4 4 4 4 4 4 4 4 4 4 4 4 4 4 5 4 4 4 4\n",
      " 4 4 4 4 4 4 4 4 4 4 4 4 4 4 4 4 4 4 4 4 4 4 4 4 4 4 4 4 4 4 4 4 4 4 4 4 4\n",
      " 4 4]\n",
      "\n",
      "--------------------------------\n",
      "\n",
      "  n_clusters  silhuete metric  calinski metric   method\n",
      "1          2         0.682226       493.881371  linkage\n",
      "0          2         0.679803       497.157354   kmeans\n",
      "2          3         0.581694       583.819609   kmeans\n",
      "3          3         0.578011       568.547745  linkage\n",
      "4          4         0.538462       519.279276   kmeans\n",
      "5          4         0.519940       398.328841  linkage\n",
      "\n",
      "[[5.9        2.76       4.25       1.326      1.02      ]\n",
      " [5.006      3.418      1.464      0.244      0.        ]\n",
      " [6.32777778 2.925      5.30277778 2.00277778 1.97222222]\n",
      " [7.38571429 3.13571429 6.22857143 2.08571429 2.        ]]\n",
      "\n",
      "[2 2 2 2 2 2 2 2 2 2 2 2 2 2 2 2 2 2 2 2 2 2 2 2 2 2 2 2 2 2 2 2 2 2 2 2 2\n",
      " 2 2 2 2 2 2 2 2 2 2 2 2 2 2 2 2 2 2 2 2 2 2 2 2 2 2 2 2 2 2 2 2 2 2 2 2 2\n",
      " 2 2 2 4 2 2 2 2 2 2 2 2 2 2 2 2 2 2 2 2 2 2 2 2 2 2 5 5 6 5 5 6 4 6 5 6 5\n",
      " 5 5 5 5 5 5 6 6 5 6 5 6 5 5 6 5 5 5 6 6 6 5 5 5 6 5 5 5 5 5 5 5 6 5 5 5 5\n",
      " 5 5]\n",
      "\n",
      "--------------------------------\n",
      "\n",
      "  n_clusters  silhuete metric  calinski metric   method\n",
      "1          2         0.682226       493.881371  linkage\n",
      "0          2         0.679803       497.157354   kmeans\n",
      "2          3         0.581694       583.819609   kmeans\n",
      "3          3         0.578011       568.547745  linkage\n",
      "4          4         0.538462       519.279276   kmeans\n",
      "5          4         0.519940       398.328841  linkage\n",
      "6          5         0.518774       525.685015   kmeans\n",
      "7          5         0.472410       323.251448  linkage\n",
      "\n",
      "[[6.3826087  2.92173913 4.63478261 1.46086957 1.        ]\n",
      " [5.006      3.418      1.464      0.244      0.        ]\n",
      " [6.31714286 2.92285714 5.31142857 2.01142857 2.        ]\n",
      " [5.53214286 2.63571429 3.96071429 1.22857143 1.03571429]\n",
      " [7.38571429 3.13571429 6.22857143 2.08571429 2.        ]]\n",
      "\n",
      "[2 2 2 2 2 2 2 2 2 2 2 2 2 2 2 2 2 2 2 2 2 2 2 2 2 2 2 2 2 2 2 2 2 2 2 2 2\n",
      " 2 2 2 2 2 2 2 2 2 2 2 2 2 2 2 2 5 2 5 2 5 2 5 5 5 5 2 5 2 5 5 2 5 2 5 2 2\n",
      " 2 2 2 2 2 5 5 5 5 2 5 2 2 2 5 5 5 2 5 5 5 5 5 2 5 5 6 6 8 6 6 8 8 8 6 8 6\n",
      " 6 6 6 6 6 6 7 8 6 8 6 8 6 6 8 6 6 6 8 8 7 6 6 6 8 6 6 6 6 6 6 6 8 6 6 6 6\n",
      " 6 6]\n",
      "\n",
      "--------------------------------\n",
      "\n",
      "  n_clusters  silhuete metric  calinski metric   method\n",
      "1          2         0.682226       493.881371  linkage\n",
      "0          2         0.679803       497.157354   kmeans\n",
      "2          3         0.581694       583.819609   kmeans\n",
      "3          3         0.578011       568.547745  linkage\n",
      "4          4         0.538462       519.279276   kmeans\n",
      "5          4         0.519940       398.328841  linkage\n",
      "6          5         0.518774       525.685015   kmeans\n",
      "7          5         0.472410       323.251448  linkage\n",
      "9          6         0.446898       295.455704  linkage\n",
      "8          6         0.390888       496.939510   kmeans\n",
      "\n",
      "[[5.53214286 2.63571429 3.96071429 1.22857143 1.03571429]\n",
      " [4.725      3.13333333 1.42083333 0.19166667 0.        ]\n",
      " [7.38571429 3.13571429 6.22857143 2.08571429 2.        ]\n",
      " [6.31714286 2.92285714 5.31142857 2.01142857 2.        ]\n",
      " [5.26538462 3.68076923 1.50384615 0.29230769 0.        ]\n",
      " [6.3826087  2.92173913 4.63478261 1.46086957 1.        ]]\n",
      "\n",
      "[5 2 2 2 5 5 2 2 2 2 5 2 2 2 5 5 5 5 5 5 5 5 2 5 2 2 5 5 5 2 2 5 5 5 2 2 5\n",
      " 2 2 5 5 2 2 5 5 2 5 2 5 2 8 8 8 3 8 3 8 2 8 3 2 3 3 8 3 8 3 3 8 3 8 3 8 8\n",
      " 8 8 8 8 8 3 3 3 3 8 3 8 8 8 3 3 3 8 3 2 3 3 3 8 2 3 8 8 7 8 8 7 6 7 8 7 8\n",
      " 8 8 8 8 8 8 6 7 8 7 8 7 8 8 7 8 8 8 7 7 6 8 8 8 7 8 8 8 8 8 8 8 7 8 8 8 8\n",
      " 8 8]\n",
      "\n",
      "--------------------------------\n",
      "\n"
     ]
    }
   ],
   "source": [
    "scores = pd.DataFrame(columns=[\"n_clusters\", \n",
    "                               \"silhuete metric\",\n",
    "                               \"calinski metric\", \n",
    "                               \"method\",])\n",
    "\n",
    "num_of_clusters = 5  # Number of clusters\n",
    "\n",
    "for i in range(num_of_clusters):\n",
    "    \n",
    "    i = i + 2 #Does not make sense do one cluster! Start with two.\n",
    "    \n",
    "    ##########################################################\n",
    "    # Run kmeans\n",
    "    ##########################################################    \n",
    "    \n",
    "    kmeans = KMeans(n_clusters=i, \n",
    "                    init='k-means++', \n",
    "                    n_init=10, \n",
    "                    max_iter=300)\n",
    "    \n",
    "    kmeans_clust = kmeans.fit(df)\n",
    "    \n",
    "    centroids = kmeans.cluster_centers_\n",
    "    labels = kmeans.labels_    \n",
    "    \n",
    "    #Calculate the scores\n",
    "    score_silhuete = silhouette_score(df,labels)\n",
    "    score_ca = calinski_harabaz_score(df,labels)    \n",
    "    scores.loc[len(scores)] = [i, score_silhuete, score_ca, 'kmeans']\n",
    "    \n",
    "    ##########################################################\n",
    "    # Run linkage\n",
    "    ##########################################################\n",
    "    \n",
    "    link = linkage(df, 'single')\n",
    "    \n",
    "    clusters = fcluster(link, \n",
    "                        i, \n",
    "                        criterion='maxclust')\n",
    "    \n",
    "    #Calculate the scores\n",
    "    score_silhuete_link = silhouette_score(df,clusters)\n",
    "    score_ca_link = calinski_harabaz_score(df,clusters)    \n",
    "    scores.loc[len(scores)] = [i, score_silhuete_link, score_ca_link, 'linkage']\n",
    "    \n",
    "    \n",
    "    # Print results\n",
    "    print scores.sort_values(['silhuete metric', 'calinski metric'], ascending=[False, False])\n",
    "    print\n",
    "    print centroids\n",
    "    print\n",
    "    print labels + clusters\n",
    "    print\n",
    "    print '--------------------------------'\n",
    "    print \n",
    "    \n",
    "    \n",
    "    \n",
    "    #print link\n",
    "    #print '--------------------------------'\n",
    "\n",
    "\n"
   ]
  },
  {
   "cell_type": "code",
   "execution_count": 116,
   "metadata": {},
   "outputs": [
    {
     "name": "stdout",
     "output_type": "stream",
     "text": [
      "  n_clusters  silhuete metric  calinski metric   method\n",
      "0          2         0.679803       497.157354   kmeans\n",
      "1          2         0.682226       493.881371  linkage\n",
      "2          3         0.581694       583.819609   kmeans\n",
      "3          3         0.578011       568.547745  linkage\n",
      "4          4         0.538462       519.279276   kmeans\n",
      "5          4         0.519940       398.328841  linkage\n",
      "6          5         0.518774       525.685015   kmeans\n",
      "7          5         0.472410       323.251448  linkage\n",
      "8          6         0.390888       496.939510   kmeans\n",
      "9          6         0.446898       295.455704  linkage\n"
     ]
    }
   ],
   "source": [
    "print scores.head(10)"
   ]
  },
  {
   "cell_type": "code",
   "execution_count": 117,
   "metadata": {},
   "outputs": [
    {
     "data": {
      "image/png": "[encoded data removed]",
      "text/plain": [
       "<Figure size 432x288 with 1 Axes>"
      ]
     },
     "metadata": {},
     "output_type": "display_data"
    }
   ],
   "source": [
    "def fancy_dendrogram(*args, **kwargs):\n",
    "    max_d = kwargs.pop('max_d', None)\n",
    "    if max_d and 'color_threshold' not in kwargs:\n",
    "        kwargs['color_threshold'] = max_d\n",
    "    annotate_above = kwargs.pop('annotate_above', 0)\n",
    "\n",
    "    ddata = dendrogram(*args, **kwargs)\n",
    "\n",
    "    if not kwargs.get('no_plot', False):\n",
    "        plt.title('Hierarchical Clustering Dendrogram (truncated)')\n",
    "        plt.xlabel('sample index or (cluster size)')\n",
    "        plt.ylabel('distance')\n",
    "        for i, d, c in zip(ddata['icoord'], ddata['dcoord'], ddata['color_list']):\n",
    "            x = 0.5 * sum(i[1:3])\n",
    "            y = d[1]\n",
    "            if y > annotate_above:\n",
    "                plt.plot(x, y, 'o', c=c)\n",
    "                plt.annotate(\"%.3g\" % y, (x, y), xytext=(0, -5),\n",
    "                             textcoords='offset points',\n",
    "                             va='top', ha='center')\n",
    "        if max_d:\n",
    "            plt.axhline(y=max_d, c='k')\n",
    "    return ddata\n",
    "\n",
    "max_d = 5  # max_d as in max_distance\n",
    "\n",
    "fancy_dendrogram(\n",
    "    link,\n",
    "    truncate_mode='lastp',\n",
    "    p=30,\n",
    "    leaf_rotation=90.,\n",
    "    leaf_font_size=12.,\n",
    "    show_contracted=True,\n",
    "    annotate_above=10,\n",
    "    max_d=max_d,  # plot a horizontal cut-off line\n",
    ")\n",
    "plt.show()"
   ]
  },
  {
   "cell_type": "code",
   "execution_count": null,
   "metadata": {},
   "outputs": [],
   "source": []
  }
 ],
 "metadata": {
  "kernelspec": {
   "display_name": "Python 2",
   "language": "python",
   "name": "python2"
  },
  "language_info": {
   "codemirror_mode": {
    "name": "ipython",
    "version": 2
   },
   "file_extension": ".py",
   "mimetype": "text/x-python",
   "name": "python",
   "nbconvert_exporter": "python",
   "pygments_lexer": "ipython2",
   "version": "2.7.15"
  }
 },
 "nbformat": 4,
 "nbformat_minor": 2
}
